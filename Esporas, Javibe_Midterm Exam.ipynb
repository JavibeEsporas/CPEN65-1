{
  "nbformat": 4,
  "nbformat_minor": 0,
  "metadata": {
    "colab": {
      "provenance": [],
      "authorship_tag": "ABX9TyN1py4I4+iIJ9w2OqD/V0eb",
      "include_colab_link": true
    },
    "kernelspec": {
      "name": "python3",
      "display_name": "Python 3"
    },
    "language_info": {
      "name": "python"
    }
  },
  "cells": [
    {
      "cell_type": "markdown",
      "metadata": {
        "id": "view-in-github",
        "colab_type": "text"
      },
      "source": [
        "<a href=\"https://colab.research.google.com/github/JavibeEsporas/CPEN65-1/blob/main/Esporas%2C%20Javibe_Midterm%20Exam.ipynb\" target=\"_parent\"><img src=\"https://colab.research.google.com/assets/colab-badge.svg\" alt=\"Open In Colab\"/></a>"
      ]
    },
    {
      "cell_type": "code",
      "execution_count": 51,
      "metadata": {
        "colab": {
          "base_uri": "https://localhost:8080/"
        },
        "id": "8lW2B3NuHBX9",
        "outputId": "f6dee87a-ad62-400e-da17-e4ed1fde6efa"
      },
      "outputs": [
        {
          "output_type": "stream",
          "name": "stdout",
          "text": [
            "The sum of array a is: 89\n"
          ]
        }
      ],
      "source": [
        "#Esporas Midterms CPEN65\n",
        "\n",
        "#No. 1\n",
        "import array\n",
        "\n",
        "a = array.array('i',[1, 3, 5, 7, 8, 9, 11, 13, 15, 17])\n",
        "sum_a = sum(a)\n",
        "print('The sum of array a is:', sum_a)"
      ]
    },
    {
      "cell_type": "code",
      "source": [
        "#Esporas Midterms CPEN65\n",
        "\n",
        "#No. 2\n",
        "import array\n",
        "\n",
        "numbers = array.array('i',[1, 2, 3, 4, 5, 6, 7, 8, 9, 10])\n",
        "numbers.append(11)\n",
        "print('Result after append:', numbers)"
      ],
      "metadata": {
        "colab": {
          "base_uri": "https://localhost:8080/"
        },
        "id": "1x36-ryDM5df",
        "outputId": "06ce5462-d23f-4c74-c2aa-0af156a9649c"
      },
      "execution_count": 52,
      "outputs": [
        {
          "output_type": "stream",
          "name": "stdout",
          "text": [
            "Result after append: array('i', [1, 2, 3, 4, 5, 6, 7, 8, 9, 10, 11])\n"
          ]
        }
      ]
    },
    {
      "cell_type": "code",
      "source": [
        "#Esporas Midterms CPEN65\n",
        "\n",
        "#No. 3\n",
        "import array\n",
        "\n",
        "numbers = array.array('i',[1, 2, 3, 4, 5, 6, 7, 8, 9, 10])\n",
        "numbers.insert(-1, 11)\n",
        "print('Result after insertion:', numbers)"
      ],
      "metadata": {
        "colab": {
          "base_uri": "https://localhost:8080/"
        },
        "id": "lNqeYkJ2Uo4j",
        "outputId": "a800e6a1-ef7c-4023-d8e5-9abb00ea92ed"
      },
      "execution_count": 53,
      "outputs": [
        {
          "output_type": "stream",
          "name": "stdout",
          "text": [
            "Result after insertion: array('i', [1, 2, 3, 4, 5, 6, 7, 8, 9, 11, 10])\n"
          ]
        }
      ]
    },
    {
      "cell_type": "code",
      "source": [
        "#Esporas Midterms CPEN65\n",
        "\n",
        "#No. 4\n",
        "import array\n",
        "\n",
        "numbers = array.array('i',[1, 2, 3, 4, 5])\n",
        "numbers.reverse()\n",
        "print('Result after reversion:', numbers)"
      ],
      "metadata": {
        "colab": {
          "base_uri": "https://localhost:8080/"
        },
        "id": "uaYKsKj2V0uH",
        "outputId": "8a0f2bff-c5dc-4e57-a141-f10347ff62ca"
      },
      "execution_count": 54,
      "outputs": [
        {
          "output_type": "stream",
          "name": "stdout",
          "text": [
            "Result after reversion: array('i', [5, 4, 3, 2, 1])\n"
          ]
        }
      ]
    },
    {
      "cell_type": "code",
      "source": [
        "#Esporas Midterms CPEN65\n",
        "\n",
        "#No. 5\n",
        "import array\n",
        "\n",
        "#finds the repeated integer\n",
        "def findrepeated(A, B):\n",
        "    for i in range(B):\n",
        "        for j in range(i + 1, B):\n",
        "            if (A[i] == A[j]):\n",
        "                return A[i]\n",
        " \n",
        "\n",
        "A = array.array('i',[1, 2, 2, 3, 4, 5, 6, 7, 8, 9])\n",
        "B = len(A)\n",
        "\n",
        "print(findrepeated(A, B))"
      ],
      "metadata": {
        "colab": {
          "base_uri": "https://localhost:8080/"
        },
        "id": "nVK6f2UJg7Ay",
        "outputId": "0674e032-915b-4297-d5e5-433a97e20e15"
      },
      "execution_count": 55,
      "outputs": [
        {
          "output_type": "stream",
          "name": "stdout",
          "text": [
            "2\n"
          ]
        }
      ]
    }
  ]
}