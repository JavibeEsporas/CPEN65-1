{
  "nbformat": 4,
  "nbformat_minor": 0,
  "metadata": {
    "colab": {
      "provenance": [],
      "authorship_tag": "ABX9TyO45aQPzY1kkpXIe7cSb2HT",
      "include_colab_link": true
    },
    "kernelspec": {
      "name": "python3",
      "display_name": "Python 3"
    },
    "language_info": {
      "name": "python"
    }
  },
  "cells": [
    {
      "cell_type": "markdown",
      "metadata": {
        "id": "view-in-github",
        "colab_type": "text"
      },
      "source": [
        "<a href=\"https://colab.research.google.com/github/JavibeEsporas/CPEN65-1/blob/main/Esporas%2C%20Javibe_Midterm%20Exam.ipynb\" target=\"_parent\"><img src=\"https://colab.research.google.com/assets/colab-badge.svg\" alt=\"Open In Colab\"/></a>"
      ]
    },
    {
      "cell_type": "code",
      "execution_count": 4,
      "metadata": {
        "colab": {
          "base_uri": "https://localhost:8080/"
        },
        "id": "8lW2B3NuHBX9",
        "outputId": "268b5132-9034-4346-e51d-c307c1e9961e"
      },
      "outputs": [
        {
          "output_type": "stream",
          "name": "stdout",
          "text": [
            "89\n"
          ]
        }
      ],
      "source": [
        "#Esporas Midterms CPEN65\n",
        "\n",
        "#No. 1\n",
        "import array\n",
        "\n",
        "a = array.array('i',[1,3,5,7,8,9,11,13,15,17])\n",
        "sum_a = sum(a)\n",
        "print(sum_a)"
      ]
    },
    {
      "cell_type": "code",
      "source": [
        "#Esporas Midterms CPEN65\n",
        "\n",
        "#No. 2\n",
        "import array\n",
        "\n",
        "a = array.array('i',[1,2,3,4,5,6,7,8,9,10])\n",
        "a.append(11)\n",
        "print(a)"
      ],
      "metadata": {
        "colab": {
          "base_uri": "https://localhost:8080/"
        },
        "id": "1x36-ryDM5df",
        "outputId": "9259fa62-4162-407f-a4ab-ca1160571fea"
      },
      "execution_count": 5,
      "outputs": [
        {
          "output_type": "stream",
          "name": "stdout",
          "text": [
            "array('i', [1, 2, 3, 4, 5, 6, 7, 8, 9, 10, 11])\n"
          ]
        }
      ]
    }
  ]
}