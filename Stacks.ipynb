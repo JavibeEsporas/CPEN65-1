{
  "nbformat": 4,
  "nbformat_minor": 0,
  "metadata": {
    "colab": {
      "provenance": [],
      "authorship_tag": "ABX9TyNGxkQt5znSmeNWLhgQKa2u",
      "include_colab_link": true
    },
    "kernelspec": {
      "name": "python3",
      "display_name": "Python 3"
    },
    "language_info": {
      "name": "python"
    }
  },
  "cells": [
    {
      "cell_type": "markdown",
      "metadata": {
        "id": "view-in-github",
        "colab_type": "text"
      },
      "source": [
        "<a href=\"https://colab.research.google.com/github/JavibeEsporas/CPEN65-1/blob/main/Stacks.ipynb\" target=\"_parent\"><img src=\"https://colab.research.google.com/assets/colab-badge.svg\" alt=\"Open In Colab\"/></a>"
      ]
    },
    {
      "cell_type": "code",
      "execution_count": 2,
      "metadata": {
        "colab": {
          "base_uri": "https://localhost:8080/"
        },
        "id": "qD7JyPF43f8C",
        "outputId": "bbfa4146-6ba4-4c3b-fe83-097469446b45"
      },
      "outputs": [
        {
          "output_type": "stream",
          "name": "stdout",
          "text": [
            "['Donna', 'Cleopatra', 'Angela', 'Gloria']\n",
            "['Donna', 'Cleopatra']\n"
          ]
        }
      ],
      "source": [
        "#Stack implementation\n",
        "class Stack:\n",
        "  def __init__(self):\n",
        "    self.stack = []             \n",
        "  \n",
        "  def push(self,dataval):\n",
        "    if dataval not in self.stack:\n",
        "      self.stack.append(dataval)\n",
        "    else:\n",
        "      return False\n",
        "  def pop(self):\n",
        "    if len (self.stack)<=0:\n",
        "      return (\"No element in the stack\")\n",
        "    else :\n",
        "      return self.stack.pop()\n",
        "\n",
        "AStack = Stack()\n",
        "AStack.push(\"Donna\")\n",
        "AStack.push(\"Cleopatra\")\n",
        "AStack.push(\"Angela\")\n",
        "AStack.push(\"Gloria\")\n",
        "print(AStack.stack)\n",
        "AStack.pop()\n",
        "AStack.pop()\n",
        "print(AStack.stack)"
      ]
    }
  ]
}