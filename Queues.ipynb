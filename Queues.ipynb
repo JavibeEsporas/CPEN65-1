{
  "nbformat": 4,
  "nbformat_minor": 0,
  "metadata": {
    "colab": {
      "provenance": [],
      "authorship_tag": "ABX9TyPC/Tq3G+fHbRSlMwyXZfRq",
      "include_colab_link": true
    },
    "kernelspec": {
      "name": "python3",
      "display_name": "Python 3"
    },
    "language_info": {
      "name": "python"
    }
  },
  "cells": [
    {
      "cell_type": "markdown",
      "metadata": {
        "id": "view-in-github",
        "colab_type": "text"
      },
      "source": [
        "<a href=\"https://colab.research.google.com/github/JavibeEsporas/CPEN65-1/blob/main/Queues.ipynb\" target=\"_parent\"><img src=\"https://colab.research.google.com/assets/colab-badge.svg\" alt=\"Open In Colab\"/></a>"
      ]
    },
    {
      "cell_type": "code",
      "execution_count": 2,
      "metadata": {
        "colab": {
          "base_uri": "https://localhost:8080/"
        },
        "id": "Vi2hyafH4OmF",
        "outputId": "48ff0167-8e83-40f0-ff3c-9f7c36b8b94b"
      },
      "outputs": [
        {
          "output_type": "stream",
          "name": "stdout",
          "text": [
            "['1', '2', '3', '4']\n",
            "['4']\n"
          ]
        }
      ],
      "source": [
        "#Queues implementation\n",
        "\n",
        "class Queues:        \n",
        "  def __init__(self):\n",
        "    self.queues = []      \n",
        "\n",
        "  def enqueue(self, dataval):\n",
        "    if dataval not in self.queues:\n",
        "      return self.queues.append(dataval)\n",
        "    else:\n",
        "      return False\n",
        "\n",
        "  def dequeue(self):\n",
        "    if len(self.queues)<=0:\n",
        "      return (\"No element in the queues\")\n",
        "    else:\n",
        "      return self.queues.pop(0)\n",
        "\n",
        "\n",
        "Queue = Queues()\n",
        "Queue.enqueue(\"1\")\n",
        "Queue.enqueue(\"2\")\n",
        "Queue.enqueue(\"3\")\n",
        "Queue.enqueue(\"4\")\n",
        "print(Queue.queues)\n",
        "Queue.dequeue()\n",
        "Queue.dequeue()\n",
        "Queue.dequeue()\n",
        "print(Queue.queues)"
      ]
    }
  ]
}