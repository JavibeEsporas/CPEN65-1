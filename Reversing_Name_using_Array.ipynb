{
  "nbformat": 4,
  "nbformat_minor": 0,
  "metadata": {
    "colab": {
      "provenance": [],
      "authorship_tag": "ABX9TyN7bxETEHygEjo8Cq6ho0e2",
      "include_colab_link": true
    },
    "kernelspec": {
      "name": "python3",
      "display_name": "Python 3"
    },
    "language_info": {
      "name": "python"
    }
  },
  "cells": [
    {
      "cell_type": "markdown",
      "metadata": {
        "id": "view-in-github",
        "colab_type": "text"
      },
      "source": [
        "<a href=\"https://colab.research.google.com/github/JavibeEsporas/CPEN65-1/blob/main/Reversing_Name_using_Array.ipynb\" target=\"_parent\"><img src=\"https://colab.research.google.com/assets/colab-badge.svg\" alt=\"Open In Colab\"/></a>"
      ]
    },
    {
      "cell_type": "code",
      "execution_count": 24,
      "metadata": {
        "colab": {
          "base_uri": "https://localhost:8080/"
        },
        "id": "JGX5-nep5re6",
        "outputId": "95d8a518-835f-4e13-c5ce-cd0e4e45d318"
      },
      "outputs": [
        {
          "output_type": "stream",
          "name": "stdout",
          "text": [
            "Using reverse() ['S', 'A', 'R', 'O', 'P', 'S', 'E', 'E', 'B', 'I', 'V', 'A', 'J']\n",
            "Using slicing ['S', 'A', 'R', 'O', 'P', 'S', 'E', 'E', 'B', 'I', 'V', 'A', 'J']\n"
          ]
        }
      ],
      "source": [
        "#Reversing array elements\n",
        "#using reverse() function\n",
        "myName = [\"J\", \"A\", \"V\", \"I\", \"B\", \"E\", \"E\", \"S\", \"P\", \"O\", \"R\", \"A\", \"S\"]\n",
        "myName.reverse()\n",
        "print(\"Using reverse()\", myName)\n",
        "\n",
        "#Reversing using slicing technique\n",
        "def reverse_slicing(myName1):\n",
        "  new_arr = myName1[::-1]\n",
        "  return new_arr\n",
        "\n",
        "myName1 = [\"J\", \"A\", \"V\", \"I\", \"B\", \"E\", \"E\", \"S\", \"P\", \"O\", \"R\", \"A\", \"S\"]\n",
        "print(\"Using slicing\", reverse_slicing(myName1))\n",
        " \n"
      ]
    }
  ]
}